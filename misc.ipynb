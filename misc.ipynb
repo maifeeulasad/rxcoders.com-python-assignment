{
 "cells": [
  {
   "cell_type": "code",
   "execution_count": null,
   "metadata": {},
   "outputs": [],
   "source": [
    "%matplotlib inline\n",
    "%matplotlib ipympl\n",
    "%matplotlib notebook\n",
    "\n",
    "import pandas as pd\n",
    "import matplotlib.pyplot as plt\n",
    "from matplotlib.animation import FuncAnimation"
   ]
  },
  {
   "cell_type": "code",
   "execution_count": null,
   "metadata": {},
   "outputs": [],
   "source": [
    "pairs = [(\"T1\",\"T2\"),(\"T1\",\"T2_2\"),(\"T3\",\"T4\")]"
   ]
  },
  {
   "cell_type": "code",
   "execution_count": null,
   "metadata": {},
   "outputs": [],
   "source": [
    "def read_csv(candidate_name):\n",
    "    data = pd.read_csv(\"./data/\"+candidate_name+\".csv\", index_col=None)\n",
    "    return data"
   ]
  },
  {
   "cell_type": "code",
   "execution_count": null,
   "metadata": {},
   "outputs": [],
   "source": [
    "def merge_both_candidate(df1, df2):\n",
    "    df1 = df1.rename(columns={'Latitude': 'lat1', 'Longitude': 'lon1'})\n",
    "    df2 = df2.rename(columns={'Latitude': 'lat2', 'Longitude': 'lon2'})\n",
    "    return pd.merge(df1, df2, on='Time (s)')"
   ]
  },
  {
   "cell_type": "code",
   "execution_count": null,
   "metadata": {},
   "outputs": [],
   "source": [
    "def render(data):\n",
    "    fig, ax = plt.subplots()\n",
    "\n",
    "    lat1, lon1 = data['lat1'], data['lon1']\n",
    "    lat2, lon2 = data['lat2'], data['lon2']\n",
    "    line1, = ax.plot(lon1, lat1, 'bo')\n",
    "    line2, = ax.plot(lon2, lat2, 'ro')\n",
    "\n",
    "    def update(i):\n",
    "        print(i)\n",
    "        lat1, lon1 = data['lat1'][:i+1], data['lon1'][:i+1]\n",
    "        lat2, lon2 = data['lat2'][:i+1], data['lon2'][:i+1]\n",
    "        \n",
    "        line1.set_data(lon1, lat1)\n",
    "        line2.set_data(lon2, lat2)\n",
    "                \n",
    "        return line1, line2\n",
    "\n",
    "    FuncAnimation(fig, update, frames=len(data), interval=1000, blit=True)\n",
    "\n",
    "    plt.show()"
   ]
  },
  {
   "cell_type": "code",
   "execution_count": null,
   "metadata": {},
   "outputs": [],
   "source": [
    "for pair in pairs:\n",
    "    candidate1 = pair[0]\n",
    "    candidate2 = pair[1]\n",
    "    data1 = read_csv(candidate1)\n",
    "    data2 = read_csv(candidate2)\n",
    "    data = merge_both_candidate(data1, data2)\n",
    "    render(data)\n",
    "    break"
   ]
  }
 ],
 "metadata": {
  "kernelspec": {
   "display_name": "Python 3",
   "language": "python",
   "name": "python3"
  },
  "language_info": {
   "codemirror_mode": {
    "name": "ipython",
    "version": 3
   },
   "file_extension": ".py",
   "mimetype": "text/x-python",
   "name": "python",
   "nbconvert_exporter": "python",
   "pygments_lexer": "ipython3",
   "version": "3.10.10"
  },
  "orig_nbformat": 4
 },
 "nbformat": 4,
 "nbformat_minor": 2
}
